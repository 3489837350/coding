{
 "cells": [
  {
   "cell_type": "markdown",
   "metadata": {},
   "source": [
    "### 前期准备工作\n",
    "导入需要的库"
   ]
  },
  {
   "cell_type": "code",
   "execution_count": 7,
   "metadata": {},
   "outputs": [],
   "source": [
    "import cv2\n",
    "import os"
   ]
  },
  {
   "cell_type": "markdown",
   "metadata": {},
   "source": [
    "准备好所有需要的文件和文件夹\n",
    "1.  opencv 训练模型文件检查"
   ]
  },
  {
   "cell_type": "code",
   "execution_count": 8,
   "metadata": {},
   "outputs": [
    {
     "name": "stdout",
     "output_type": "stream",
     "text": [
      "done,1\n"
     ]
    }
   ],
   "source": [
    "def check_exe():\n",
    "    files=os.listdir(os.getcwd())\n",
    "    files1=\"opencv_createsamples\"\n",
    "    files2=\"opencv_traincascade\"\n",
    "    for i in files:\n",
    "        if files1==\"true\" and files2==\"true\":\n",
    "            break\n",
    "        if i==files1:\n",
    "            files1=\"true\"\n",
    "        elif i==files2:\n",
    "            files2=\"true\"\n",
    "    if files1 != \"true\" or files2 != \"true\":\n",
    "        print(\"缺失一些必要的训练文件，可以选择在网址\\\n",
    "        https://link.jscdn.cn/sharepoint/aHR0cHM6Ly\\\n",
    "            9tYWlsc2N1dGVkdWNuLW15LnNoYXJlcG9pbnQuY29\\\n",
    "                tLzp1Oi9nL3BlcnNvbmFsLzIwMTk2NjE3NjI1M\\\n",
    "                    19tYWlsX3NjdXRfZWR1X2NuL0VkQ2FLVVNL\\\n",
    "                        R2JwQ3FuNHpPbU5RN0M4QlFRbW5OQkZX\\\n",
    "                            TnJJYXN6MnRIRXRxUnc_ZT1hbzhrZW\\\n",
    "                                4.zip 中进行下载\")\n",
    "    else:\n",
    "        print(\"done,1\")\n",
    "check_exe()"
   ]
  },
  {
   "cell_type": "markdown",
   "metadata": {},
   "source": [
    "2.  接下来，创建一些必要的文件夹和文档来存放必要的照片和数据吧（这步操作会删除已有的很多东西，如果你确定你已经准备好的所有文件，请跳过这步）"
   ]
  },
  {
   "cell_type": "code",
   "execution_count": 9,
   "metadata": {},
   "outputs": [
    {
     "name": "stdout",
     "output_type": "stream",
     "text": [
      "done,2\n"
     ]
    }
   ],
   "source": [
    "neg_txt=open(\"neg.txt\",'w+')\n",
    "neg_txt.close()\n",
    "pos_txt=open(\"pos.txt\",'w+')\n",
    "pos_txt.close()\n",
    "def mkdir1():\n",
    "    neg_dir='neg'\n",
    "    pos_dir='pos'\n",
    "    Cascade='TrainCascadeClassification'\n",
    "    if os.path.exists(neg_dir):\n",
    "    #先判断该文件夹是否已经存在， \n",
    "        if os.path.getsize(neg_dir):\n",
    "            #如果存在，判断该文件夹里面是否有东西\n",
    "            for file in os.listdir(neg_dir)[0:]:\n",
    "                #删除该文件夹里面的东西\n",
    "                #先通过os.listdir获取该文件夹内的文件名列表，然后逐一删除\n",
    "                file_path=neg_dir+'/'+file \n",
    "                os.remove(file_path) #删除该文件\n",
    "    else: \n",
    "        os.mkdir(neg_dir)\n",
    "    if os.path.exists(pos_dir):\n",
    "    #先判断该文件夹是否已经存在， \n",
    "        if os.path.getsize(pos_dir):\n",
    "            #如果存在，判断该文件夹里面是否有东西\n",
    "            for file in os.listdir(pos_dir)[0:]:\n",
    "                #删除该文件夹里面的东西\n",
    "                #先通过os.listdir获取该文件夹内的文件名列表，然后逐一删除\n",
    "                file_path=pos_dir+'/'+file \n",
    "                os.remove(file_path) #删除该文件\n",
    "    else: \n",
    "        os.mkdir(pos_dir)\n",
    "    if os.path.exists(Cascade):\n",
    "    #先判断该文件夹是否已经存在， \n",
    "        if os.path.getsize(Cascade):\n",
    "            #如果存在，判断该文件夹里面是否有东西\n",
    "            for file in os.listdir(Cascade)[0:]:\n",
    "                #删除该文件夹里面的东西\n",
    "                #先通过os.listdir获取该文件夹内的文件名列表，然后逐一删除\n",
    "                file_path=Cascade+'/'+file \n",
    "                os.remove(file_path) #删除该文件\n",
    "    else: \n",
    "        os.mkdir(Cascade)\n",
    "mkdir1()\n",
    "print(\"done,2\")"
   ]
  },
  {
   "cell_type": "markdown",
   "metadata": {},
   "source": [
    "3.  接下来，让我们填写一些基本参数吧"
   ]
  },
  {
   "cell_type": "code",
   "execution_count": 10,
   "metadata": {},
   "outputs": [],
   "source": [
    "num_pos=int(input(\"多少张正样本：\"))\n",
    "num_neg=int(input(\"多少张负样本（建议为正样本数量的3倍）：\"))\n",
    "numPos=input(\"每级分类器训练时所用到的正样本数目（一般为正样本数目的80%）：\")\n",
    "numNeg=input(\"每级分类器训练时所用到的负样本数目(一般为numPos的2-3倍):\")\n",
    "numStages=input(\"训练分类器的级数，强分类器的个数(12-20):\")\n",
    "precalcValBufSize=input(\"缓存大小，用于存储预先计算的特征值(3000就行）：\")\n",
    "precalcIdxBufSize=input(\"缓存大小，用于存储预先计算的特征索引(3000就行):\")\n",
    "w=int(input(\"训练的正样本的宽度（建议10-100，否则会很慢）:\"))\n",
    "h=int(input(\"训练的正样本的高（建议与宽度相同）:\"))\n",
    "featureType=input(\"训练使用的特征类型(Haar，LBP和HOG):\")"
   ]
  },
  {
   "cell_type": "markdown",
   "metadata": {},
   "source": [
    "4.  接下来，拍一些照片（数量与上面的设定值相同）吧。"
   ]
  },
  {
   "cell_type": "code",
   "execution_count": 11,
   "metadata": {},
   "outputs": [
    {
     "name": "stdout",
     "output_type": "stream",
     "text": [
      "正样本照片拍摄（尽可能物品占满镜头,按p进行拍摄，按q退出,d删除上一张）\n",
      "负样本照片拍摄（尽可能物品占满镜头,按p进行拍摄，按q退出,d删除上一张）\n"
     ]
    }
   ],
   "source": [
    "cap=cv2.VideoCapture(1)\n",
    "read=cap.read\n",
    "imshow=cv2.imshow\n",
    "p=ord('p')\n",
    "q=ord('q')\n",
    "d=ord('d')\n",
    "waitKey=cv2.waitKey\n",
    "def take_pos_photo():\n",
    "    pos_txt=open('pos.txt','w+')\n",
    "    num_pos1=0\n",
    "    print(\"正样本照片拍摄（尽可能物品占满镜头,按p进行拍摄，按q退出,d删除上一张）\")\n",
    "    while cap.isOpened() and num_pos1<num_pos:\n",
    "        _,frame=read()\n",
    "        imshow(\"pos_take\",frame)\n",
    "        if waitKey(1)&0xFF==p:\n",
    "            frame=cv2.resize(frame,(w,h),interpolation=cv2.INTER_CUBIC)\n",
    "            cv2.imwrite('pos/pos'+str(num_pos1)+'.jpg',frame)\n",
    "            pos_txt.write('pos/pos'+str(num_pos1)+'.jpg 1 0 0 '+str(w)+' '+str(h)+'\\n')\n",
    "            num_pos1+=1\n",
    "        elif waitKey(1)&0xFF==q:\n",
    "            break\n",
    "        elif waitKey(1)&0xFF==d:\n",
    "            num_pos1-=1\n",
    "            os.remove('pos/pos'+str(num_pos1)+'.jpg')\n",
    "            pos_txt.close()\n",
    "            file_old=open('pos.txt','r')\n",
    "            lines = [i for i in file_old]\n",
    "            del lines[-1]\n",
    "            file_old.close()\n",
    "            pos_txt=open('pos.txt','w+')\n",
    "            pos_txt.write(''.join(lines))\n",
    "    cv2.destroyAllWindows()\n",
    "def take_neg_photo():\n",
    "    neg_txt=open('neg.txt','w+')\n",
    "    num_neg1=0\n",
    "    print(\"负样本照片拍摄（尽可能物品占满镜头,按p进行拍摄，按q退出,d删除上一张）\")\n",
    "    while cap.isOpened() and num_neg1<num_neg:\n",
    "        _,frame=read()\n",
    "        imshow(\"neg_take\",frame)\n",
    "        if waitKey(1)&0xFF==p:\n",
    "            frame=cv2.resize(frame,(w,h),interpolation=cv2.INTER_CUBIC)\n",
    "            cv2.imwrite('neg/neg'+str(num_neg1)+'.jpg',frame)\n",
    "            neg_txt.write('neg/neg'+str(num_neg1)+'.jpg 1 0 0 '+str(w)+' '+str(h)+'\\n')\n",
    "            num_neg1+=1\n",
    "        elif waitKey(1)&0xFF==q:\n",
    "            break\n",
    "        elif waitKey(1)&0xFF==d:\n",
    "            num_neg1-=1\n",
    "            os.remove('neg/negp'+str(num_neg1)+'.jpg')\n",
    "            neg_txt.close()\n",
    "            file_old=open('neg.txt','r')\n",
    "            lines = [i for i in file_old]\n",
    "            del lines[-1]\n",
    "            file_old.close()\n",
    "            neg_txt=open('neg.txt','w+')\n",
    "            neg_txt.write(''.join(lines))\n",
    "    cv2.destroyAllWindows()\n",
    "take_pos_photo()\n",
    "take_neg_photo()\n",
    "cap.release()"
   ]
  },
  {
   "cell_type": "markdown",
   "metadata": {},
   "source": [
    "5.  开始训练模型吧"
   ]
  },
  {
   "cell_type": "code",
   "execution_count": 12,
   "metadata": {},
   "outputs": [
    {
     "data": {
      "text/plain": [
       "1"
      ]
     },
     "execution_count": 12,
     "metadata": {},
     "output_type": "execute_result"
    }
   ],
   "source": [
    "os.system(\"release/opencv_createsamples.exe  -info pos.txt -vec pos.vec -num \"+str(num_pos)+\" -w \"+str(w)+\" -h \"+str(h))\n",
    "os.system(\"release/opencv_traincascade.exe  -data TrainCascadeClassification \\\n",
    "    -vec pos.vec -bg neg.txt -numPos \"+str(numPos)+\" -numNeg \"+str(numNeg)+\" -numStages \"\\\n",
    "        +str(numStages)+\" -precalcValBufSize  \"+str(precalcValBufSize)+\"  -precalcIdxBufSize  \"\\\n",
    "            +str(precalcIdxBufSize)+\" -featureType \"+str(featureType)+\"  -w \"+str(w)+\" -h \"+str(h))"
   ]
  }
 ],
 "metadata": {
  "interpreter": {
   "hash": "fd0e014a2a9faf2cfe8e268401a912921a8c5b8ecb37cc7abd27468daba42ed8"
  },
  "kernelspec": {
   "display_name": "Python 3.7.12 ('trian_detect_opencv')",
   "language": "python",
   "name": "python3"
  },
  "language_info": {
   "codemirror_mode": {
    "name": "ipython",
    "version": 3
   },
   "file_extension": ".py",
   "mimetype": "text/x-python",
   "name": "python",
   "nbconvert_exporter": "python",
   "pygments_lexer": "ipython3",
   "version": "3.7.12"
  },
  "orig_nbformat": 4
 },
 "nbformat": 4,
 "nbformat_minor": 2
}
